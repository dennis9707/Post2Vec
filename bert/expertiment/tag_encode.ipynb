{
 "cells": [
  {
   "cell_type": "code",
   "execution_count": 6,
   "metadata": {},
   "outputs": [],
   "source": [
    "# Build Tag Vocab\n",
    "from sklearn import metrics\n",
    "import pandas as pd\n",
    "import torch.nn as nn\n",
    "import torch\n",
    "from torch.utils.data import DataLoader\n",
    "from sklearn import preprocessing\n",
    "import numpy as np\n",
    "from transformers import AutoTokenizer\n",
    "\n",
    "\n",
    "tab_vocab_path = \"../../data/tags/20211110/top10/common.csv\"\n",
    "tag_vocab = pd.read_csv(tab_vocab_path)\n",
    "tag_list = tag_vocab[\"tag\"].astype(str).tolist()\n",
    "mlb = preprocessing.MultiLabelBinarizer()\n",
    "mlb.fit([tag_list])\n",
    "\n",
    "input_train = \"../../data/questions/Train_Questions54Top10.pkl\"\n"
   ]
  },
  {
   "cell_type": "code",
   "execution_count": 7,
   "metadata": {},
   "outputs": [
    {
     "data": {
      "text/html": [
       "<div>\n",
       "<style scoped>\n",
       "    .dataframe tbody tr th:only-of-type {\n",
       "        vertical-align: middle;\n",
       "    }\n",
       "\n",
       "    .dataframe tbody tr th {\n",
       "        vertical-align: top;\n",
       "    }\n",
       "\n",
       "    .dataframe thead th {\n",
       "        text-align: right;\n",
       "    }\n",
       "</style>\n",
       "<table border=\"1\" class=\"dataframe\">\n",
       "  <thead>\n",
       "    <tr style=\"text-align: right;\">\n",
       "      <th></th>\n",
       "      <th>qid</th>\n",
       "      <th>title</th>\n",
       "      <th>desc_text</th>\n",
       "      <th>desc_code</th>\n",
       "      <th>creation_date</th>\n",
       "      <th>clean_tags</th>\n",
       "    </tr>\n",
       "  </thead>\n",
       "  <tbody>\n",
       "    <tr>\n",
       "      <th>0</th>\n",
       "      <td>68945060</td>\n",
       "      <td>React make useState initial value conditional</td>\n",
       "      <td>I am trying to set initial state based on data...</td>\n",
       "      <td>const Calculate({data}) =&gt; { const [number, se...</td>\n",
       "      <td>2021-08-26T20:39:33.023</td>\n",
       "      <td>['reactjs', 'javascript']</td>\n",
       "    </tr>\n",
       "    <tr>\n",
       "      <th>1</th>\n",
       "      <td>68111792</td>\n",
       "      <td>Elevate application to administration by limit...</td>\n",
       "      <td>Currently i'm busy creating an application for...</td>\n",
       "      <td>NaN</td>\n",
       "      <td>2021-06-24T08:01:27.023</td>\n",
       "      <td>['c#']</td>\n",
       "    </tr>\n",
       "    <tr>\n",
       "      <th>2</th>\n",
       "      <td>68303073</td>\n",
       "      <td>Nested Router in ReactJS - Show blank page on ...</td>\n",
       "      <td>I am a beginner in ReactJS and React Router an...</td>\n",
       "      <td>import React from \"react\"; import { Router, Sw...</td>\n",
       "      <td>2021-07-08T13:58:04.570</td>\n",
       "      <td>['reactjs', 'javascript']</td>\n",
       "    </tr>\n",
       "    <tr>\n",
       "      <th>3</th>\n",
       "      <td>68953821</td>\n",
       "      <td>How to map POCO into Record using AutoMapper</td>\n",
       "      <td>I'm using AutoMapper 10.1.1 with .NET 6 (previ...</td>\n",
       "      <td>using AutoMapper; using FluentAssertions; usin...</td>\n",
       "      <td>2021-08-27T12:56:01.197</td>\n",
       "      <td>['c#']</td>\n",
       "    </tr>\n",
       "    <tr>\n",
       "      <th>4</th>\n",
       "      <td>68758004</td>\n",
       "      <td>Header detail footer report in python like out...</td>\n",
       "      <td>I am trying to create a report from my datafra...</td>\n",
       "      <td>NaN</td>\n",
       "      <td>2021-08-12T13:01:44.307</td>\n",
       "      <td>['python']</td>\n",
       "    </tr>\n",
       "  </tbody>\n",
       "</table>\n",
       "</div>"
      ],
      "text/plain": [
       "        qid                                              title  \\\n",
       "0  68945060      React make useState initial value conditional   \n",
       "1  68111792  Elevate application to administration by limit...   \n",
       "2  68303073  Nested Router in ReactJS - Show blank page on ...   \n",
       "3  68953821       How to map POCO into Record using AutoMapper   \n",
       "4  68758004  Header detail footer report in python like out...   \n",
       "\n",
       "                                           desc_text  \\\n",
       "0  I am trying to set initial state based on data...   \n",
       "1  Currently i'm busy creating an application for...   \n",
       "2  I am a beginner in ReactJS and React Router an...   \n",
       "3  I'm using AutoMapper 10.1.1 with .NET 6 (previ...   \n",
       "4  I am trying to create a report from my datafra...   \n",
       "\n",
       "                                           desc_code            creation_date  \\\n",
       "0  const Calculate({data}) => { const [number, se...  2021-08-26T20:39:33.023   \n",
       "1                                                NaN  2021-06-24T08:01:27.023   \n",
       "2  import React from \"react\"; import { Router, Sw...  2021-07-08T13:58:04.570   \n",
       "3  using AutoMapper; using FluentAssertions; usin...  2021-08-27T12:56:01.197   \n",
       "4                                                NaN  2021-08-12T13:01:44.307   \n",
       "\n",
       "                  clean_tags  \n",
       "0  ['reactjs', 'javascript']  \n",
       "1                     ['c#']  \n",
       "2  ['reactjs', 'javascript']  \n",
       "3                     ['c#']  \n",
       "4                 ['python']  "
      ]
     },
     "execution_count": 7,
     "metadata": {},
     "output_type": "execute_result"
    }
   ],
   "source": [
    "train = pd.read_pickle(input_train)\n",
    "train.head()"
   ]
  },
  {
   "cell_type": "code",
   "execution_count": 14,
   "metadata": {},
   "outputs": [],
   "source": [
    "tags = train['clean_tags'][0]\n",
    "import ast \n",
    "tag_set = set(ast.literal_eval( tags))"
   ]
  },
  {
   "cell_type": "code",
   "execution_count": 40,
   "metadata": {},
   "outputs": [],
   "source": [
    "a = mlb.transform([tag_set])[0]"
   ]
  },
  {
   "cell_type": "code",
   "execution_count": 41,
   "metadata": {},
   "outputs": [],
   "source": [
    "import torch\n",
    "\n",
    "b = torch.from_numpy(a).type(torch.FloatTensor)"
   ]
  },
  {
   "cell_type": "code",
   "execution_count": 42,
   "metadata": {},
   "outputs": [
    {
     "name": "stdout",
     "output_type": "stream",
     "text": [
      "tensor([0., 0., 0., 0., 1., 0., 0., 0., 1.])\n",
      "<class 'torch.Tensor'>\n"
     ]
    }
   ],
   "source": [
    "print(b)\n",
    "print(type(b))"
   ]
  },
  {
   "cell_type": "code",
   "execution_count": null,
   "metadata": {},
   "outputs": [],
   "source": []
  }
 ],
 "metadata": {
  "interpreter": {
   "hash": "d4d1e4263499bec80672ea0156c357c1ee493ec2b1c70f0acce89fc37c4a6abe"
  },
  "kernelspec": {
   "display_name": "Python 3.6.13 64-bit ('base': conda)",
   "language": "python",
   "name": "python3"
  },
  "language_info": {
   "codemirror_mode": {
    "name": "ipython",
    "version": 3
   },
   "file_extension": ".py",
   "mimetype": "text/x-python",
   "name": "python",
   "nbconvert_exporter": "python",
   "pygments_lexer": "ipython3",
   "version": "3.6.13"
  },
  "orig_nbformat": 4
 },
 "nbformat": 4,
 "nbformat_minor": 2
}
