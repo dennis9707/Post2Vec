{
 "cells": [
  {
   "cell_type": "code",
   "execution_count": 1,
   "metadata": {},
   "outputs": [
    {
     "data": {
      "text/html": [
       "<div>\n",
       "<style scoped>\n",
       "    .dataframe tbody tr th:only-of-type {\n",
       "        vertical-align: middle;\n",
       "    }\n",
       "\n",
       "    .dataframe tbody tr th {\n",
       "        vertical-align: top;\n",
       "    }\n",
       "\n",
       "    .dataframe thead th {\n",
       "        text-align: right;\n",
       "    }\n",
       "</style>\n",
       "<table border=\"1\" class=\"dataframe\">\n",
       "  <thead>\n",
       "    <tr style=\"text-align: right;\">\n",
       "      <th></th>\n",
       "      <th>qid</th>\n",
       "      <th>title</th>\n",
       "      <th>desc_text</th>\n",
       "      <th>desc_code</th>\n",
       "      <th>creation_date</th>\n",
       "      <th>clean_tags</th>\n",
       "    </tr>\n",
       "  </thead>\n",
       "  <tbody>\n",
       "    <tr>\n",
       "      <th>282822</th>\n",
       "      <td>68445575</td>\n",
       "      <td>iOS collection view decoration view: subclass ...</td>\n",
       "      <td>I would like to subclass my collection view de...</td>\n",
       "      <td>NaN</td>\n",
       "      <td>2021-07-19T18:49:47.667</td>\n",
       "      <td>[ios]</td>\n",
       "    </tr>\n",
       "    <tr>\n",
       "      <th>282823</th>\n",
       "      <td>68405629</td>\n",
       "      <td>How to pass the jenkins job output to python a...</td>\n",
       "      <td>I have created a python script which successfu...</td>\n",
       "      <td>jenkins_job_name = \"job name\" Jenkins_url = \"u...</td>\n",
       "      <td>2021-07-16T08:07:38.287</td>\n",
       "      <td>[python, jenkins, python-3.x]</td>\n",
       "    </tr>\n",
       "    <tr>\n",
       "      <th>282824</th>\n",
       "      <td>68232096</td>\n",
       "      <td>How to solve \"Access to XMLHttpRequest has bee...</td>\n",
       "      <td>I looked up tons of similar questions but neit...</td>\n",
       "      <td>const [books, setBooks] = useState([]); const ...</td>\n",
       "      <td>2021-07-02T23:16:26.077</td>\n",
       "      <td>[reactjs, api]</td>\n",
       "    </tr>\n",
       "    <tr>\n",
       "      <th>282825</th>\n",
       "      <td>68202050</td>\n",
       "      <td>Why does Pytest create a new class instance fo...</td>\n",
       "      <td>I was reading the Pytest documentation when I ...</td>\n",
       "      <td>\"\"\" Something to be aware of when grouping tes...</td>\n",
       "      <td>2021-06-30T22:01:14.160</td>\n",
       "      <td>[unit-testing]</td>\n",
       "    </tr>\n",
       "    <tr>\n",
       "      <th>282826</th>\n",
       "      <td>68481954</td>\n",
       "      <td>How to remove the commas in arrays javascript</td>\n",
       "      <td>I would like to know whether I can remove the ...</td>\n",
       "      <td>var allRows = []; var numberOfRows = 10; var n...</td>\n",
       "      <td>2021-07-22T08:56:29.230</td>\n",
       "      <td>[arrays, javascript]</td>\n",
       "    </tr>\n",
       "  </tbody>\n",
       "</table>\n",
       "</div>"
      ],
      "text/plain": [
       "             qid                                              title  \\\n",
       "282822  68445575  iOS collection view decoration view: subclass ...   \n",
       "282823  68405629  How to pass the jenkins job output to python a...   \n",
       "282824  68232096  How to solve \"Access to XMLHttpRequest has bee...   \n",
       "282825  68202050  Why does Pytest create a new class instance fo...   \n",
       "282826  68481954      How to remove the commas in arrays javascript   \n",
       "\n",
       "                                                desc_text  \\\n",
       "282822  I would like to subclass my collection view de...   \n",
       "282823  I have created a python script which successfu...   \n",
       "282824  I looked up tons of similar questions but neit...   \n",
       "282825  I was reading the Pytest documentation when I ...   \n",
       "282826  I would like to know whether I can remove the ...   \n",
       "\n",
       "                                                desc_code  \\\n",
       "282822                                                NaN   \n",
       "282823  jenkins_job_name = \"job name\" Jenkins_url = \"u...   \n",
       "282824  const [books, setBooks] = useState([]); const ...   \n",
       "282825  \"\"\" Something to be aware of when grouping tes...   \n",
       "282826  var allRows = []; var numberOfRows = 10; var n...   \n",
       "\n",
       "                  creation_date                     clean_tags  \n",
       "282822  2021-07-19T18:49:47.667                          [ios]  \n",
       "282823  2021-07-16T08:07:38.287  [python, jenkins, python-3.x]  \n",
       "282824  2021-07-02T23:16:26.077                 [reactjs, api]  \n",
       "282825  2021-06-30T22:01:14.160                 [unit-testing]  \n",
       "282826  2021-07-22T08:56:29.230           [arrays, javascript]  "
      ]
     },
     "execution_count": 1,
     "metadata": {},
     "output_type": "execute_result"
    }
   ],
   "source": [
    "import pandas as pd\n",
    "input_train = \"../../data/questions/Train_Questions54TS1000.pkl\"\n",
    "\n",
    "train = pd.read_pickle(input_train)\n",
    "train.tail()"
   ]
  },
  {
   "cell_type": "code",
   "execution_count": 5,
   "metadata": {},
   "outputs": [
    {
     "data": {
      "text/html": [
       "<div>\n",
       "<style scoped>\n",
       "    .dataframe tbody tr th:only-of-type {\n",
       "        vertical-align: middle;\n",
       "    }\n",
       "\n",
       "    .dataframe tbody tr th {\n",
       "        vertical-align: top;\n",
       "    }\n",
       "\n",
       "    .dataframe thead th {\n",
       "        text-align: right;\n",
       "    }\n",
       "</style>\n",
       "<table border=\"1\" class=\"dataframe\">\n",
       "  <thead>\n",
       "    <tr style=\"text-align: right;\">\n",
       "      <th></th>\n",
       "      <th>qid</th>\n",
       "      <th>title</th>\n",
       "      <th>desc_text</th>\n",
       "      <th>desc_code</th>\n",
       "      <th>creation_date</th>\n",
       "      <th>clean_tags</th>\n",
       "    </tr>\n",
       "  </thead>\n",
       "  <tbody>\n",
       "    <tr>\n",
       "      <th>60601</th>\n",
       "      <td>68556129</td>\n",
       "      <td>Taking an array of transactions and summing va...</td>\n",
       "      <td>So I have an array of transactions that looks ...</td>\n",
       "      <td>[ { date: '22-03-2021, amount: 2, value: 10, f...</td>\n",
       "      <td>2021-07-28T07:27:18.807</td>\n",
       "      <td>[typescript, reactjs, arrays, javascript]</td>\n",
       "    </tr>\n",
       "    <tr>\n",
       "      <th>60602</th>\n",
       "      <td>68855110</td>\n",
       "      <td>Unable to upload bitmaps from most fonts loade...</td>\n",
       "      <td>I'm facing this issue for months. Every font I...</td>\n",
       "      <td>if (error = FT_Init_FreeType(&amp;ftlib)) { std::c...</td>\n",
       "      <td>2021-08-19T22:28:07.007</td>\n",
       "      <td>[c++]</td>\n",
       "    </tr>\n",
       "    <tr>\n",
       "      <th>60603</th>\n",
       "      <td>68684480</td>\n",
       "      <td>Netty how to completely ignore TCP/UDP packets...</td>\n",
       "      <td>I'm trying to create a SOCKS proxy implementat...</td>\n",
       "      <td>IpFilterRule[] rules = new IpFilterRule[2]; ru...</td>\n",
       "      <td>2021-08-06T15:57:32.143</td>\n",
       "      <td>[java]</td>\n",
       "    </tr>\n",
       "    <tr>\n",
       "      <th>60604</th>\n",
       "      <td>68456628</td>\n",
       "      <td>Python: ModuleNotFound error when file is in t...</td>\n",
       "      <td>I was trying to load a dataset with pickle, wh...</td>\n",
       "      <td>Exception has occurred: ModuleNotFoundError No...</td>\n",
       "      <td>2021-07-20T14:27:18.137</td>\n",
       "      <td>[python]</td>\n",
       "    </tr>\n",
       "    <tr>\n",
       "      <th>60605</th>\n",
       "      <td>68125673</td>\n",
       "      <td>URL regex for sublinks in the main website</td>\n",
       "      <td>I want to create a regex for the URLs that I w...</td>\n",
       "      <td>http://www.example.com/wp-admin/admin-ajax.php...</td>\n",
       "      <td>2021-06-25T04:58:03.577</td>\n",
       "      <td>[regex]</td>\n",
       "    </tr>\n",
       "  </tbody>\n",
       "</table>\n",
       "</div>"
      ],
      "text/plain": [
       "            qid                                              title  \\\n",
       "60601  68556129  Taking an array of transactions and summing va...   \n",
       "60602  68855110  Unable to upload bitmaps from most fonts loade...   \n",
       "60603  68684480  Netty how to completely ignore TCP/UDP packets...   \n",
       "60604  68456628  Python: ModuleNotFound error when file is in t...   \n",
       "60605  68125673         URL regex for sublinks in the main website   \n",
       "\n",
       "                                               desc_text  \\\n",
       "60601  So I have an array of transactions that looks ...   \n",
       "60602  I'm facing this issue for months. Every font I...   \n",
       "60603  I'm trying to create a SOCKS proxy implementat...   \n",
       "60604  I was trying to load a dataset with pickle, wh...   \n",
       "60605  I want to create a regex for the URLs that I w...   \n",
       "\n",
       "                                               desc_code  \\\n",
       "60601  [ { date: '22-03-2021, amount: 2, value: 10, f...   \n",
       "60602  if (error = FT_Init_FreeType(&ftlib)) { std::c...   \n",
       "60603  IpFilterRule[] rules = new IpFilterRule[2]; ru...   \n",
       "60604  Exception has occurred: ModuleNotFoundError No...   \n",
       "60605  http://www.example.com/wp-admin/admin-ajax.php...   \n",
       "\n",
       "                 creation_date                                 clean_tags  \n",
       "60601  2021-07-28T07:27:18.807  [typescript, reactjs, arrays, javascript]  \n",
       "60602  2021-08-19T22:28:07.007                                      [c++]  \n",
       "60603  2021-08-06T15:57:32.143                                     [java]  \n",
       "60604  2021-07-20T14:27:18.137                                   [python]  \n",
       "60605  2021-06-25T04:58:03.577                                    [regex]  "
      ]
     },
     "execution_count": 5,
     "metadata": {},
     "output_type": "execute_result"
    }
   ],
   "source": [
    "input_valid = \"../../data/questions/Valid_Questions54TS1000.pkl\"\n",
    "\n",
    "valid = pd.read_pickle(input_valid)\n",
    "valid.tail()"
   ]
  },
  {
   "cell_type": "code",
   "execution_count": 5,
   "metadata": {},
   "outputs": [
    {
     "data": {
      "text/html": [
       "<div>\n",
       "<style scoped>\n",
       "    .dataframe tbody tr th:only-of-type {\n",
       "        vertical-align: middle;\n",
       "    }\n",
       "\n",
       "    .dataframe tbody tr th {\n",
       "        vertical-align: top;\n",
       "    }\n",
       "\n",
       "    .dataframe thead th {\n",
       "        text-align: right;\n",
       "    }\n",
       "</style>\n",
       "<table border=\"1\" class=\"dataframe\">\n",
       "  <thead>\n",
       "    <tr style=\"text-align: right;\">\n",
       "      <th></th>\n",
       "      <th>qid</th>\n",
       "      <th>title</th>\n",
       "      <th>desc_text</th>\n",
       "      <th>desc_code</th>\n",
       "      <th>creation_date</th>\n",
       "      <th>clean_tags</th>\n",
       "    </tr>\n",
       "  </thead>\n",
       "  <tbody>\n",
       "    <tr>\n",
       "      <th>104345</th>\n",
       "      <td>67933332</td>\n",
       "      <td>How to install python application + visualstud...</td>\n",
       "      <td>I try install application RCN. \"Python 2.7 is ...</td>\n",
       "      <td>NaN</td>\n",
       "      <td>2021-06-11T07:59:56.450</td>\n",
       "      <td>[python]</td>\n",
       "    </tr>\n",
       "    <tr>\n",
       "      <th>104346</th>\n",
       "      <td>68394089</td>\n",
       "      <td>Java: Canvas.drawline, how to draw a thicker line</td>\n",
       "      <td>Im trying to draw a lightning bolt on my canva...</td>\n",
       "      <td>canvas.drawLine(lightningBoltArray[i].startXAr...</td>\n",
       "      <td>2021-07-15T12:44:27.220</td>\n",
       "      <td>[java]</td>\n",
       "    </tr>\n",
       "    <tr>\n",
       "      <th>104347</th>\n",
       "      <td>68090307</td>\n",
       "      <td>Read CSV into single object with Jackson</td>\n",
       "      <td>I have the following class: And I have the fol...</td>\n",
       "      <td>public class DealRequestDto { private Map&lt;Stri...</td>\n",
       "      <td>2021-06-22T20:24:11.160</td>\n",
       "      <td>[java]</td>\n",
       "    </tr>\n",
       "    <tr>\n",
       "      <th>104348</th>\n",
       "      <td>68336429</td>\n",
       "      <td>Cannot Invoke JTable because tableDisplay is null</td>\n",
       "      <td>Hello I encountered a NullPointerException JTa...</td>\n",
       "      <td>public void showUser() { ArrayList&lt;User&gt; list ...</td>\n",
       "      <td>2021-07-11T12:53:25.317</td>\n",
       "      <td>[java]</td>\n",
       "    </tr>\n",
       "    <tr>\n",
       "      <th>104349</th>\n",
       "      <td>68645162</td>\n",
       "      <td>What is the Solana pattern for creating a tran...</td>\n",
       "      <td>I'm attempting to process a transaction in my ...</td>\n",
       "      <td>const transferAcc = await PublicKey.createWith...</td>\n",
       "      <td>2021-08-04T03:52:46.287</td>\n",
       "      <td>[javascript]</td>\n",
       "    </tr>\n",
       "  </tbody>\n",
       "</table>\n",
       "</div>"
      ],
      "text/plain": [
       "             qid                                              title  \\\n",
       "104345  67933332  How to install python application + visualstud...   \n",
       "104346  68394089  Java: Canvas.drawline, how to draw a thicker line   \n",
       "104347  68090307           Read CSV into single object with Jackson   \n",
       "104348  68336429  Cannot Invoke JTable because tableDisplay is null   \n",
       "104349  68645162  What is the Solana pattern for creating a tran...   \n",
       "\n",
       "                                                desc_text  \\\n",
       "104345  I try install application RCN. \"Python 2.7 is ...   \n",
       "104346  Im trying to draw a lightning bolt on my canva...   \n",
       "104347  I have the following class: And I have the fol...   \n",
       "104348  Hello I encountered a NullPointerException JTa...   \n",
       "104349  I'm attempting to process a transaction in my ...   \n",
       "\n",
       "                                                desc_code  \\\n",
       "104345                                                NaN   \n",
       "104346  canvas.drawLine(lightningBoltArray[i].startXAr...   \n",
       "104347  public class DealRequestDto { private Map<Stri...   \n",
       "104348  public void showUser() { ArrayList<User> list ...   \n",
       "104349  const transferAcc = await PublicKey.createWith...   \n",
       "\n",
       "                  creation_date    clean_tags  \n",
       "104345  2021-06-11T07:59:56.450      [python]  \n",
       "104346  2021-07-15T12:44:27.220        [java]  \n",
       "104347  2021-06-22T20:24:11.160        [java]  \n",
       "104348  2021-07-11T12:53:25.317        [java]  \n",
       "104349  2021-08-04T03:52:46.287  [javascript]  "
      ]
     },
     "execution_count": 5,
     "metadata": {},
     "output_type": "execute_result"
    }
   ],
   "source": [
    "input_train = \"../../data/questions/Train_Questions54.pkl\"\n",
    "\n",
    "train = pd.read_pickle(input_train)\n",
    "train.tail()"
   ]
  },
  {
   "cell_type": "code",
   "execution_count": 3,
   "metadata": {},
   "outputs": [
    {
     "data": {
      "text/plain": [
       "['html', 'javascript', 'laravel', 'php']"
      ]
     },
     "execution_count": 3,
     "metadata": {},
     "output_type": "execute_result"
    }
   ],
   "source": [
    "import ast\n",
    "ast.literal_eval(str(['html', 'javascript', 'laravel', 'php']))"
   ]
  },
  {
   "cell_type": "code",
   "execution_count": 4,
   "metadata": {},
   "outputs": [
    {
     "data": {
      "application/vnd.jupyter.widget-view+json": {
       "model_id": "132e5437650548c4a9ef380d4c62b5eb",
       "version_major": 2,
       "version_minor": 0
      },
      "text/plain": [
       "Downloading:   0%|          | 0.00/450 [00:00<?, ?B/s]"
      ]
     },
     "metadata": {},
     "output_type": "display_data"
    },
    {
     "data": {
      "application/vnd.jupyter.widget-view+json": {
       "model_id": "09d51636f033407c944162d03615e71b",
       "version_major": 2,
       "version_minor": 0
      },
      "text/plain": [
       "Downloading:   0%|          | 0.00/550 [00:00<?, ?B/s]"
      ]
     },
     "metadata": {},
     "output_type": "display_data"
    },
    {
     "data": {
      "application/vnd.jupyter.widget-view+json": {
       "model_id": "cadde93563c942d8a0b780853d35f743",
       "version_major": 2,
       "version_minor": 0
      },
      "text/plain": [
       "Downloading:   0%|          | 0.00/226k [00:00<?, ?B/s]"
      ]
     },
     "metadata": {},
     "output_type": "display_data"
    },
    {
     "data": {
      "application/vnd.jupyter.widget-view+json": {
       "model_id": "13891ae632aa41b5a6b052595b619dac",
       "version_major": 2,
       "version_minor": 0
      },
      "text/plain": [
       "Downloading:   0%|          | 0.00/455k [00:00<?, ?B/s]"
      ]
     },
     "metadata": {},
     "output_type": "display_data"
    },
    {
     "data": {
      "application/vnd.jupyter.widget-view+json": {
       "model_id": "2a169d95879947fd9ce402de4ad0e2e7",
       "version_major": 2,
       "version_minor": 0
      },
      "text/plain": [
       "Downloading:   0%|          | 0.00/112 [00:00<?, ?B/s]"
      ]
     },
     "metadata": {},
     "output_type": "display_data"
    },
    {
     "data": {
      "application/vnd.jupyter.widget-view+json": {
       "model_id": "470d195530264a59bc9f58b6eb24ff04",
       "version_major": 2,
       "version_minor": 0
      },
      "text/plain": [
       "Downloading:   0%|          | 0.00/253M [00:00<?, ?B/s]"
      ]
     },
     "metadata": {},
     "output_type": "display_data"
    },
    {
     "name": "stdout",
     "output_type": "stream",
     "text": [
      "Sentence embeddings:\n",
      "tensor([[-0.4505,  1.1663, -0.3443,  ..., -0.2687,  0.6466,  0.8255],\n",
      "        [-0.2859,  0.1400,  1.6070,  ..., -0.0206, -0.0584,  0.2076]])\n"
     ]
    }
   ],
   "source": [
    "from transformers import AutoTokenizer, AutoModel\n",
    "import torch\n",
    "\n",
    "\n",
    "# Max Pooling - Take the max value over time for every dimension. \n",
    "def max_pooling(model_output, attention_mask):\n",
    "    token_embeddings = model_output[0] #First element of model_output contains all token embeddings\n",
    "    input_mask_expanded = attention_mask.unsqueeze(-1).expand(token_embeddings.size()).float()\n",
    "    token_embeddings[input_mask_expanded == 0] = -1e9  # Set padding tokens to large negative value\n",
    "    return torch.max(token_embeddings, 1)[0]\n",
    "\n",
    "\n",
    "# Sentences we want sentence embeddings for\n",
    "sentences = ['This is an example sentence', 'Each sentence is converted']\n",
    "\n",
    "# Load model from HuggingFace Hub\n",
    "tokenizer = AutoTokenizer.from_pretrained('sentence-transformers/nli-distilbert-base-max-pooling')\n",
    "model = AutoModel.from_pretrained('sentence-transformers/nli-distilbert-base-max-pooling')\n",
    "\n",
    "# Tokenize sentences\n",
    "encoded_input = tokenizer(sentences, padding=True, truncation=True, return_tensors='pt')\n",
    "\n",
    "# Compute token embeddings\n",
    "with torch.no_grad():\n",
    "    model_output = model(**encoded_input)\n",
    "\n",
    "# Perform pooling. In this case, max pooling.\n",
    "sentence_embeddings = max_pooling(model_output, encoded_input['attention_mask'])\n",
    "\n",
    "print(\"Sentence embeddings:\")\n",
    "print(sentence_embeddings)\n"
   ]
  },
  {
   "cell_type": "code",
   "execution_count": null,
   "metadata": {},
   "outputs": [],
   "source": []
  }
 ],
 "metadata": {
  "interpreter": {
   "hash": "31f2aee4e71d21fbe5cf8b01ff0e069b9275f58929596ceb00d14d90e3e16cd6"
  },
  "kernelspec": {
   "display_name": "Python 3.6.9 64-bit",
   "language": "python",
   "name": "python3"
  },
  "language_info": {
   "codemirror_mode": {
    "name": "ipython",
    "version": 3
   },
   "file_extension": ".py",
   "mimetype": "text/x-python",
   "name": "python",
   "nbconvert_exporter": "python",
   "pygments_lexer": "ipython3",
   "version": "3.6.13"
  },
  "orig_nbformat": 4
 },
 "nbformat": 4,
 "nbformat_minor": 2
}
