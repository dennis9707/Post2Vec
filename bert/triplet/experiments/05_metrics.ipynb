{
 "cells": [
  {
   "cell_type": "code",
   "execution_count": 10,
   "metadata": {},
   "outputs": [],
   "source": [
    "def evaluate_ori(pred, label, topk):\n",
    "    \"\"\"\n",
    "    dimension of pred and label should be equal.\n",
    "    :param pred: a list of prediction\n",
    "    :param label: a list of true label\n",
    "    :param topk:\n",
    "    :return: a dictionary: {'precision': pre_k, 'recall': rec_k, 'f1': f1_k}\n",
    "    \"\"\"\n",
    "    top_idx_list = sorted(range(len(pred)), key=lambda i: pred[i])[-topk:]\n",
    "    num_of_true_in_topk = len([idx for idx in top_idx_list if label[idx] == 1])\n",
    "    # precision@k = #true label in topk / k\n",
    "    pre_k = num_of_true_in_topk / float(topk)\n",
    "    # recall@k = #true label in topk / #true label\n",
    "    num_of_true_in_all = sum(label)\n",
    "    if num_of_true_in_all > topk:\n",
    "        rec_k = num_of_true_in_topk / float(topk)\n",
    "    else:\n",
    "        rec_k = num_of_true_in_topk / float(num_of_true_in_all)\n",
    "    # f1@k = 2 * precision@k * recall@k / (precision@k + recall@k)\n",
    "    if pre_k == 0 and rec_k == 0:\n",
    "        f1_k = 0.0\n",
    "    else:\n",
    "        f1_k = 2 * pre_k * rec_k / (pre_k + rec_k)\n",
    "    # return {'precision': pre_k, 'recall': rec_k, 'f1': f1_k}\n",
    "    return pre_k, rec_k, f1_k"
   ]
  },
  {
   "cell_type": "code",
   "execution_count": 2,
   "metadata": {},
   "outputs": [],
   "source": [
    "result = evaluate_ori([23,45,645,213], [0,1,1,0], 2)"
   ]
  },
  {
   "cell_type": "code",
   "execution_count": 1,
   "metadata": {},
   "outputs": [],
   "source": [
    "a = [23,45,645,213]"
   ]
  },
  {
   "cell_type": "code",
   "execution_count": 3,
   "metadata": {},
   "outputs": [
    {
     "data": {
      "text/plain": [
       "(0.5, 0.5, 0.5)"
      ]
     },
     "execution_count": 3,
     "metadata": {},
     "output_type": "execute_result"
    }
   ],
   "source": [
    "result"
   ]
  },
  {
   "cell_type": "code",
   "execution_count": 15,
   "metadata": {},
   "outputs": [],
   "source": [
    "def evaluate_batch(pred, label, topk_list=[1, 2, 3, 4, 5]):\n",
    "    pre = [0.0] * len(topk_list)\n",
    "    rc = [0.0] * len(topk_list)\n",
    "    f1 = [0.0] * len(topk_list)\n",
    "    cnt = 0\n",
    "    for i in range(0, len(pred)):\n",
    "        for idx, topk in enumerate(topk_list):\n",
    "            pre_val, rc_val, f1_val = evaluate_ori(\n",
    "                pred=pred[i], label=label[i], topk=topk)\n",
    "            pre[idx] += pre_val\n",
    "            rc[idx] += rc_val\n",
    "            f1[idx] += f1_val\n",
    "        cnt += 1\n",
    "    pre[:] = [x / cnt for x in pre]\n",
    "    rc[:] = [x / cnt for x in rc]\n",
    "    f1[:] = [x / cnt for x in f1]\n",
    "    return [pre, rc, f1, cnt]"
   ]
  },
  {
   "cell_type": "code",
   "execution_count": 17,
   "metadata": {},
   "outputs": [],
   "source": [
    "r = evaluate_batch(b,c)"
   ]
  },
  {
   "cell_type": "code",
   "execution_count": 18,
   "metadata": {},
   "outputs": [],
   "source": [
    "d = r[0] + r[0]"
   ]
  },
  {
   "cell_type": "code",
   "execution_count": 19,
   "metadata": {},
   "outputs": [
    {
     "data": {
      "text/plain": [
       "[1.0,\n",
       " 0.5,\n",
       " 0.6666666666666666,\n",
       " 0.5,\n",
       " 0.4,\n",
       " 1.0,\n",
       " 0.5,\n",
       " 0.6666666666666666,\n",
       " 0.5,\n",
       " 0.4]"
      ]
     },
     "execution_count": 19,
     "metadata": {},
     "output_type": "execute_result"
    }
   ],
   "source": [
    "d"
   ]
  },
  {
   "cell_type": "code",
   "execution_count": 1,
   "metadata": {},
   "outputs": [
    {
     "name": "stdout",
     "output_type": "stream",
     "text": [
      "[0.5  0.75 0.25]\n"
     ]
    }
   ],
   "source": [
    "data = [[0, 1, 0],\n",
    "        [1, 1, 1],\n",
    "        [0, 0, 0],\n",
    "        [1, 1, 0]]\n",
    "import numpy as np\n",
    "a = np.array(data)\n",
    "res = np.average(a, axis=0)\n",
    "print(res)"
   ]
  },
  {
   "cell_type": "code",
   "execution_count": null,
   "metadata": {},
   "outputs": [],
   "source": [
    "def avg(data):\n",
    "    import numpy as np\n",
    "    a = np.array(data)\n",
    "    res = np.average(a, axis=0)\n",
    "    return res"
   ]
  }
 ],
 "metadata": {
  "interpreter": {
   "hash": "d4d1e4263499bec80672ea0156c357c1ee493ec2b1c70f0acce89fc37c4a6abe"
  },
  "kernelspec": {
   "display_name": "Python 3.6.13 64-bit ('base': conda)",
   "language": "python",
   "name": "python3"
  },
  "language_info": {
   "codemirror_mode": {
    "name": "ipython",
    "version": 3
   },
   "file_extension": ".py",
   "mimetype": "text/x-python",
   "name": "python",
   "nbconvert_exporter": "python",
   "pygments_lexer": "ipython3",
   "version": "3.6.13"
  },
  "orig_nbformat": 4
 },
 "nbformat": 4,
 "nbformat_minor": 2
}
