{
 "cells": [
  {
   "cell_type": "code",
   "execution_count": null,
   "metadata": {},
   "outputs": [],
   "source": [
    "import sys\n",
    "sys.path.append('../../')\n",
    "\n",
    "from data_structure.question import Question\n",
    "import pandas as pd\n",
    "data_path = \"../../../data/train/train-0-20000.pkl\"\n",
    "dataset = pd.read_pickle(data_path)"
   ]
  },
  {
   "cell_type": "code",
   "execution_count": 10,
   "metadata": {},
   "outputs": [
    {
     "data": {
      "text/plain": [
       "20000"
      ]
     },
     "execution_count": 10,
     "metadata": {},
     "output_type": "execute_result"
    }
   ],
   "source": [
    "len(dataset)"
   ]
  },
  {
   "cell_type": "code",
   "execution_count": 11,
   "metadata": {},
   "outputs": [],
   "source": [
    "a = dataset[0]"
   ]
  },
  {
   "cell_type": "code",
   "execution_count": 3,
   "metadata": {},
   "outputs": [
    {
     "name": "stdout",
     "output_type": "stream",
     "text": [
      "49193286\n",
      "python scikit learn logistic regression error\n",
      "i am trying to plot a logistic regression graph from the following data however when i try: i get the following error: i am a bit confused why it thinks that either x or y has only one sample.\n",
      "['python', 'logistic-regression', 'scikit-learn']\n"
     ]
    }
   ],
   "source": [
    "\n",
    "print(a.get_comp_by_name(\"title\"))\n",
    "print(a.get_comp_by_name(\"desc_text\"))\n",
    "print(a.get_comp_by_name(\"tags\"))\n"
   ]
  },
  {
   "cell_type": "code",
   "execution_count": 15,
   "metadata": {},
   "outputs": [
    {
     "name": "stdout",
     "output_type": "stream",
     "text": [
      "x = np.array ([ 0,1,2,3,4,5,6,7,8,9,10,11] ) y = np.array ([ 0,0,0,0,1,0,1,0,1,1,1,1] ) import numpy as np import matplotlib.pyplot as plt from sklearn import linear_model x = np.array ([ 0,1,2,3,4,5,6,7,8,9,10,11] ) y = np.array ([ 0,0,0,0,1,0,1,0,1,1,1,1] ) clf = linear_model.logisticregression (c=1e5) clf.fit (x, y) valueerror: found input variables with inconsistent numbers of samples: [1 , 12 ]\n"
     ]
    }
   ],
   "source": [
    "print(a.get_comp_by_name(\"desc_code\"))"
   ]
  },
  {
   "cell_type": "code",
   "execution_count": 7,
   "metadata": {},
   "outputs": [],
   "source": [
    "a = dataset[0]\n",
    "a = a.get_comp_by_name(\"title\")"
   ]
  },
  {
   "cell_type": "code",
   "execution_count": 17,
   "metadata": {},
   "outputs": [],
   "source": [
    "tags = a.get_comp_by_name(\"tags\")"
   ]
  },
  {
   "cell_type": "code",
   "execution_count": 18,
   "metadata": {},
   "outputs": [
    {
     "data": {
      "text/plain": [
       "list"
      ]
     },
     "execution_count": 18,
     "metadata": {},
     "output_type": "execute_result"
    }
   ],
   "source": [
    "type(tags)"
   ]
  },
  {
   "cell_type": "code",
   "execution_count": null,
   "metadata": {},
   "outputs": [],
   "source": []
  }
 ],
 "metadata": {
  "interpreter": {
   "hash": "31f2aee4e71d21fbe5cf8b01ff0e069b9275f58929596ceb00d14d90e3e16cd6"
  },
  "kernelspec": {
   "display_name": "Python 3.6.9 64-bit",
   "language": "python",
   "name": "python3"
  },
  "language_info": {
   "codemirror_mode": {
    "name": "ipython",
    "version": 3
   },
   "file_extension": ".py",
   "mimetype": "text/x-python",
   "name": "python",
   "nbconvert_exporter": "python",
   "pygments_lexer": "ipython3",
   "version": "3.6.13"
  },
  "orig_nbformat": 4
 },
 "nbformat": 4,
 "nbformat_minor": 2
}
