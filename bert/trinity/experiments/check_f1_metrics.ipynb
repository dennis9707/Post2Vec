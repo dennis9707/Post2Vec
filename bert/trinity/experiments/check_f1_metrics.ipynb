{
 "cells": [
  {
   "cell_type": "code",
   "execution_count": null,
   "metadata": {},
   "outputs": [],
   "source": [
    "def evaluate_ori(pred, label, topk):\n",
    "    \"\"\"\n",
    "    dimension of pred and label should be equal.\n",
    "    :param pred: a list of prediction\n",
    "    :param label: a list of true label\n",
    "    :param topk:\n",
    "    :return: a dictionary: {'precision': pre_k, 'recall': rec_k, 'f1': f1_k}\n",
    "    \"\"\"\n",
    "    top_idx_list = sorted(range(len(pred)), key=lambda i: pred[i])[-topk:]\n",
    "    num_of_true_in_topk = len([idx for idx in top_idx_list if label[idx] == 1])\n",
    "    # precision@k = #true label in topk / k\n",
    "    pre_k = num_of_true_in_topk / float(topk)\n",
    "    # recall@k = #true label in topk / #true label\n",
    "    num_of_true_in_all = sum(label)\n",
    "    if num_of_true_in_all > topk:\n",
    "        rec_k = num_of_true_in_topk / float(topk)\n",
    "    else:\n",
    "        rec_k = num_of_true_in_topk / float(num_of_true_in_all)\n",
    "    # f1@k = 2 * precision@k * recall@k / (precision@k + recall@k)\n",
    "    if pre_k == 0 and rec_k == 0:\n",
    "        f1_k = 0.0\n",
    "    else:\n",
    "        f1_k = 2 * pre_k * rec_k / (pre_k + rec_k)\n",
    "    # return {'precision': pre_k, 'recall': rec_k, 'f1': f1_k}\n",
    "    return pre_k, rec_k, f1_k\n",
    "\n",
    "def evaluate_batch(pred, label, topk_list, metric=None):\n",
    "    if metric == 'ori' or metric == 'standard':\n",
    "        pre = [0.0] * len(topk_list)\n",
    "        rc = [0.0] * len(topk_list)\n",
    "        f1 = [0.0] * len(topk_list)\n",
    "        cnt = 0\n",
    "        for i in range(0, pred.shape[0]):\n",
    "            for idx, topk in enumerate(topk_list):\n",
    "                pre_val, rc_val, f1_val = evaluate(pred=pred[i], label=label[i], topk=topk, metric=metric)\n",
    "                pre[idx] += pre_val\n",
    "                rc[idx] += rc_val\n",
    "                f1[idx] += f1_val\n",
    "            cnt += 1\n",
    "        pre[:] = [x / cnt for x in pre]\n",
    "        rc[:] = [x / cnt for x in rc]\n",
    "        f1[:] = [x / cnt for x in f1]\n",
    "        return [pre, rc, f1, cnt]\n",
    "    else:\n",
    "        print(\"No such metric {}!\".format(metric))"
   ]
  },
  {
   "cell_type": "code",
   "execution_count": null,
   "metadata": {},
   "outputs": [],
   "source": []
  }
 ],
 "metadata": {
  "language_info": {
   "name": "python"
  },
  "orig_nbformat": 4
 },
 "nbformat": 4,
 "nbformat_minor": 2
}
