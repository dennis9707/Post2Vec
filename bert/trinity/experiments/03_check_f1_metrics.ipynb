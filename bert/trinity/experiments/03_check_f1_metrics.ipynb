{
 "cells": [
  {
   "cell_type": "code",
   "execution_count": 2,
   "metadata": {},
   "outputs": [],
   "source": [
    "\n",
    "def evaluate_ori(pred, label, topk):\n",
    "    \"\"\"\n",
    "    dimension of pred and label should be equal.\n",
    "    :param pred: a list of prediction\n",
    "    :param label: a list of true label\n",
    "    :param topk:\n",
    "    :return: a dictionary: {'precision': pre_k, 'recall': rec_k, 'f1': f1_k}\n",
    "    \"\"\"\n",
    "    top_idx_list = sorted(range(len(pred)), key=lambda i: pred[i])[-topk:]\n",
    "    num_of_true_in_topk = len([idx for idx in top_idx_list if label[idx] == 1])\n",
    "    # precision@k = #true label in topk / k\n",
    "    pre_k = num_of_true_in_topk / float(topk)\n",
    "    # recall@k = #true label in topk / #true label\n",
    "    num_of_true_in_all = sum(label)\n",
    "    if num_of_true_in_all > topk:\n",
    "        rec_k = num_of_true_in_topk / float(topk)\n",
    "    else:\n",
    "        rec_k = num_of_true_in_topk / float(num_of_true_in_all)\n",
    "    # f1@k = 2 * precision@k * recall@k / (precision@k + recall@k)\n",
    "    if pre_k == 0 and rec_k == 0:\n",
    "        f1_k = 0.0\n",
    "    else:\n",
    "        f1_k = 2 * pre_k * rec_k / (pre_k + rec_k)\n",
    "    # return {'precision': pre_k, 'recall': rec_k, 'f1': f1_k}\n",
    "    return pre_k, rec_k, f1_k\n",
    "\n",
    "\n",
    "def evaluate_batch(pred, label, topk_list=[1,2,3,4,5]):\n",
    "    pre = [0.0] * len(topk_list)\n",
    "    rc = [0.0] * len(topk_list)\n",
    "    f1 = [0.0] * len(topk_list)\n",
    "    cnt = 0\n",
    "    for i in range(0, pred.shape[0]):\n",
    "        for idx, topk in enumerate(topk_list):\n",
    "            pre_val, rc_val, f1_val = evaluate_ori(pred=pred[i], label=label[i], topk=topk)\n",
    "            pre[idx] += pre_val\n",
    "            rc[idx] += rc_val\n",
    "            f1[idx] += f1_val\n",
    "        cnt += 1\n",
    "    pre[:] = [x / cnt for x in pre]\n",
    "    rc[:] = [x / cnt for x in rc]\n",
    "    f1[:] = [x / cnt for x in f1]\n",
    "    return [pre, rc, f1, cnt]\n",
    "    "
   ]
  },
  {
   "cell_type": "code",
   "execution_count": 3,
   "metadata": {},
   "outputs": [],
   "source": [
    "pred = [0,1,2,3,45,2,45,65,76]"
   ]
  },
  {
   "cell_type": "code",
   "execution_count": 4,
   "metadata": {},
   "outputs": [],
   "source": [
    "top_idx_list = sorted(range(len(pred)), key=lambda i: pred[i], reverse=True)[:5]"
   ]
  },
  {
   "cell_type": "code",
   "execution_count": 6,
   "metadata": {},
   "outputs": [
    {
     "data": {
      "text/plain": [
       "[8, 7, 4, 6, 3]"
      ]
     },
     "execution_count": 6,
     "metadata": {},
     "output_type": "execute_result"
    }
   ],
   "source": [
    "top_idx_list\n"
   ]
  },
  {
   "cell_type": "code",
   "execution_count": 8,
   "metadata": {},
   "outputs": [],
   "source": [
    "top_idx_lis1 = sorted(range(len(pred)), key=lambda i: pred[i])[-5:]\n"
   ]
  },
  {
   "cell_type": "code",
   "execution_count": 9,
   "metadata": {},
   "outputs": [
    {
     "data": {
      "text/plain": [
       "[3, 4, 6, 7, 8]"
      ]
     },
     "execution_count": 9,
     "metadata": {},
     "output_type": "execute_result"
    }
   ],
   "source": [
    "top_idx_lis1"
   ]
  },
  {
   "cell_type": "code",
   "execution_count": 11,
   "metadata": {},
   "outputs": [],
   "source": [
    "topk_list = [1,2,3,4,5]"
   ]
  },
  {
   "cell_type": "code",
   "execution_count": null,
   "metadata": {},
   "outputs": [],
   "source": [
    "def evaluate_batch(pred, label, topk_list, metric=None):\n",
    "    if metric == 'ori' or metric == 'standard':\n",
    "        pre = [0.0] * len(topk_list)\n",
    "        rc = [0.0] * len(topk_list)\n",
    "        f1 = [0.0] * len(topk_list)\n",
    "        cnt = 0\n",
    "        for i in range(0, pred.shape[0]):\n",
    "            for idx, topk in enumerate(topk_list):\n",
    "                pre_val, rc_val, f1_val = evaluate(pred=pred[i], label=label[i], topk=topk, metric=metric)\n",
    "                pre[idx] += pre_val\n",
    "                rc[idx] += rc_val\n",
    "                f1[idx] += f1_val\n",
    "            cnt += 1\n",
    "        pre[:] = [x / cnt for x in pre]\n",
    "        rc[:] = [x / cnt for x in rc]\n",
    "        f1[:] = [x / cnt for x in f1]\n",
    "        return [pre, rc, f1, cnt]\n",
    "    else:\n",
    "        print(\"No such metric {}!\".format(metric))"
   ]
  },
  {
   "cell_type": "code",
   "execution_count": 13,
   "metadata": {},
   "outputs": [],
   "source": [
    "top = [topk_list,topk_list,topk_list,topk_list]"
   ]
  },
  {
   "cell_type": "code",
   "execution_count": 14,
   "metadata": {},
   "outputs": [
    {
     "ename": "AttributeError",
     "evalue": "'list' object has no attribute 'shape'",
     "output_type": "error",
     "traceback": [
      "\u001b[0;31m---------------------------------------------------------------------------\u001b[0m",
      "\u001b[0;31mAttributeError\u001b[0m                            Traceback (most recent call last)",
      "\u001b[0;32m<ipython-input-14-865346b1cd72>\u001b[0m in \u001b[0;36m<module>\u001b[0;34m\u001b[0m\n\u001b[0;32m----> 1\u001b[0;31m \u001b[0mtop\u001b[0m\u001b[0;34m.\u001b[0m\u001b[0mshape\u001b[0m\u001b[0;34m[\u001b[0m\u001b[0;36m0\u001b[0m\u001b[0;34m]\u001b[0m\u001b[0;34m\u001b[0m\u001b[0;34m\u001b[0m\u001b[0m\n\u001b[0m",
      "\u001b[0;31mAttributeError\u001b[0m: 'list' object has no attribute 'shape'"
     ]
    }
   ],
   "source": [
    "top.shape[0]"
   ]
  },
  {
   "cell_type": "code",
   "execution_count": null,
   "metadata": {},
   "outputs": [],
   "source": []
  }
 ],
 "metadata": {
  "interpreter": {
   "hash": "d4d1e4263499bec80672ea0156c357c1ee493ec2b1c70f0acce89fc37c4a6abe"
  },
  "kernelspec": {
   "display_name": "Python 3.6.13 64-bit ('base': conda)",
   "language": "python",
   "name": "python3"
  },
  "language_info": {
   "codemirror_mode": {
    "name": "ipython",
    "version": 3
   },
   "file_extension": ".py",
   "mimetype": "text/x-python",
   "name": "python",
   "nbconvert_exporter": "python",
   "pygments_lexer": "ipython3",
   "version": "3.6.13"
  },
  "orig_nbformat": 4
 },
 "nbformat": 4,
 "nbformat_minor": 2
}
