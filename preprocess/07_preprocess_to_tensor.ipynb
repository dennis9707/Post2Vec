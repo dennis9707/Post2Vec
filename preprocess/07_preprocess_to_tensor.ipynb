{
 "cells": [
  {
   "cell_type": "code",
   "execution_count": 14,
   "metadata": {},
   "outputs": [],
   "source": [
    "import sys\n",
    "sys.path.append(\"../bert\")\n",
    "sys.path.append(\"../..\")\n",
    "import multiprocessing as mp\n",
    "from typing import Counter\n",
    "import argparse\n",
    "import logging\n",
    "import time\n",
    "from tqdm import tqdm\n",
    "from data_structure.question import Question, NewQuestion\n",
    "import pandas as pd\n",
    "from tqdm import tqdm\n",
    "import time\n",
    "import multiprocessing as mp\n",
    "from transformers import AutoTokenizer\n",
    "import math\n",
    "tokenizer = AutoTokenizer.from_pretrained(\n",
    "        \"microsoft/codebert-base\", local_files_only=True)\n",
    "def gen_feature(tokens, max_length):\n",
    "\n",
    "        feature = tokenizer(tokens, max_length=max_length,\n",
    "                                 padding='max_length', return_attention_mask=True,\n",
    "                                 return_token_type_ids=False, truncation=True,\n",
    "                                 return_tensors='pt')\n",
    "        res = {\n",
    "            \"input_ids\": feature[\"input_ids\"].flatten(),\n",
    "            \"attention_mask\": feature[\"attention_mask\"].flatten()}\n",
    "        return res\n",
    "\n",
    "\n",
    "def process_file_to_tensor(file, title_max, text_max, code_max):\n",
    "    out_dir = \"../data/small_tagdc/final_data/\"\n",
    "    dataset = pd.read_pickle(file)\n",
    "    file_name = \"small_tagdc_tensot.pkl\"\n",
    "    q_list = list()\n",
    "    for question in dataset:\n",
    "        qid = question.get_qid()\n",
    "        title = question.get_title()\n",
    "        title_feature = gen_feature(title, title_max)\n",
    "        text = question.get_text()\n",
    "        text_feature = gen_feature(text, text_max)\n",
    "        code = question.get_code()\n",
    "        code_feature = gen_feature(code, code_max)\n",
    "        date = question.get_creation_date()\n",
    "        tags = question.get_tag()\n",
    "        q_list.append(NewQuestion(qid, title_feature, text_feature, code_feature, date, tags))\n",
    "    import pickle\n",
    "    with open(out_dir+file_name, 'wb') as f:\n",
    "        pickle.dump(q_list, f)\n",
    "\n",
    "\n",
    "file = \"../data/small_tagdc/final_data/Posts_50000.pkl\"\n",
    "process_file_to_tensor(file, 100, 512, 512)"
   ]
  },
  {
   "cell_type": "code",
   "execution_count": null,
   "metadata": {},
   "outputs": [],
   "source": []
  }
 ],
 "metadata": {
  "interpreter": {
   "hash": "d4d1e4263499bec80672ea0156c357c1ee493ec2b1c70f0acce89fc37c4a6abe"
  },
  "kernelspec": {
   "display_name": "Python 3.6.13 64-bit ('base': conda)",
   "language": "python",
   "name": "python3"
  },
  "language_info": {
   "codemirror_mode": {
    "name": "ipython",
    "version": 3
   },
   "file_extension": ".py",
   "mimetype": "text/x-python",
   "name": "python",
   "nbconvert_exporter": "python",
   "pygments_lexer": "ipython3",
   "version": "3.6.13"
  },
  "orig_nbformat": 4
 },
 "nbformat": 4,
 "nbformat_minor": 2
}
