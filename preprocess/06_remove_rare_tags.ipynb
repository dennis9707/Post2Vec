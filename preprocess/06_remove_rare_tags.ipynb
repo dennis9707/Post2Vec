{
 "cells": [
  {
   "cell_type": "code",
   "execution_count": 5,
   "metadata": {},
   "outputs": [
    {
     "name": "stdout",
     "output_type": "stream",
     "text": [
      "# tags = 8527\n",
      "# tags = 397\n",
      "Filtering corpus based on tags...\n",
      "Writing 10000 instances, filter 519 instances... \n",
      " 03:08:19\n",
      "Writing 20000 instances, filter 1137 instances... \n",
      " 03:08:23\n",
      "Writing 30000 instances, filter 1585 instances... \n",
      " 03:08:26\n",
      "Writing 40000 instances, filter 2064 instances... \n",
      " 03:08:30\n",
      "cnt 47540\n"
     ]
    }
   ],
   "source": [
    "from datetime import datetime\n",
    "import sys\n",
    "sys.path.append(\"../bert\")\n",
    "import pandas as pd\n",
    "import ast\n",
    "from util import load_tags\n",
    "from data_structure.question import NewQuestion\n",
    "import math\n",
    "def filter_by_rare(target_tags, rare_tags):\n",
    "    return list(set(target_tags) - set(rare_tags))\n",
    "\n",
    "\n",
    "def filter_by_common(target_tags, common_tags):\n",
    "    return list(set(target_tags).intersection(set(common_tags)))\n",
    "\n",
    "\n",
    "def build_corpus(all_fpath, tags_vocab, corpus_fpath):\n",
    "    print(\"Filtering corpus based on tags...\")\n",
    "    cnt = 0\n",
    "    filter_cnt = 0\n",
    "    df = pd.read_csv(all_fpath)\n",
    "    df = df.fillna('')\n",
    "    q_list = list()\n",
    "    for idx, row in df.iterrows():\n",
    "        try:\n",
    "            qid = row['Id']\n",
    "            title = row['Title']\n",
    "            desc_text = row['Body']\n",
    "            desc_code = row['Code']\n",
    "            creation_date = row['CreationDate']\n",
    "            tags = ast.literal_eval(row['Tags'])\n",
    "            clean_tags = filter_by_common(tags, tags_vocab)\n",
    "            if len(clean_tags) == 0:\n",
    "                filter_cnt += 1\n",
    "                continue\n",
    "            try:\n",
    "                q_list.append(NewQuestion(qid, title, desc_text, desc_code, creation_date, clean_tags))\n",
    "                cnt += 1\n",
    "            except Exception as e:\n",
    "                print(\"Skip id=%s\" % qid)\n",
    "                print(\"Error msg: %s\" % e)\n",
    "\n",
    "            if cnt % 10000 == 0:\n",
    "                print(\"Writing %d instances, filter %d instances... \\n %s\" %\n",
    "                      (cnt, filter_cnt, datetime.now().strftime(\"%H:%M:%S\")))\n",
    "        except Exception as e:\n",
    "            print(\"Skip qid %s because %s\" % (qid, e))\n",
    "            filter_cnt += 1\n",
    "    print(\"cnt {}\".format(cnt))\n",
    "    import pickle\n",
    "    with open(corpus_fpath, 'wb') as f:\n",
    "        pickle.dump(q_list, f)\n",
    "\n",
    "\n",
    "source_corpus_fpath = \"../data/small_tagdc/Posts_50000.csv\"\n",
    "rare_tags_fpath = \"../data/small_tagdc/small_tagdc_rareTags.csv\"\n",
    "common_tags_fpath = \"../data/small_tagdc/small_tagdc_commonTags.csv\"\n",
    "\n",
    "# Output:\n",
    "target_corpus_fpath = \"../data/small_tagdc/Posts_50000.pkl\"\n",
    "\n",
    "rare_tags = load_tags(rare_tags_fpath)\n",
    "common_tags = load_tags(common_tags_fpath)\n",
    "build_corpus(source_corpus_fpath, common_tags, target_corpus_fpath)"
   ]
  },
  {
   "cell_type": "code",
   "execution_count": null,
   "metadata": {},
   "outputs": [],
   "source": []
  }
 ],
 "metadata": {
  "interpreter": {
   "hash": "d4d1e4263499bec80672ea0156c357c1ee493ec2b1c70f0acce89fc37c4a6abe"
  },
  "kernelspec": {
   "display_name": "Python 3.6.13 64-bit ('base': conda)",
   "language": "python",
   "name": "python3"
  },
  "language_info": {
   "codemirror_mode": {
    "name": "ipython",
    "version": 3
   },
   "file_extension": ".py",
   "mimetype": "text/x-python",
   "name": "python",
   "nbconvert_exporter": "python",
   "pygments_lexer": "ipython3",
   "version": "3.6.13"
  },
  "orig_nbformat": 4
 },
 "nbformat": 4,
 "nbformat_minor": 2
}
