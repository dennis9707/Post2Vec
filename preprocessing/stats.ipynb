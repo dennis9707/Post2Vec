{
 "cells": [
  {
   "cell_type": "code",
   "execution_count": 1,
   "metadata": {},
   "outputs": [],
   "source": [
    "import pandas as pd\n",
    "\n",
    "train = pd.read_csv('../data/tasks/codebert_concat/data/Question1_train.csv',lineterminator='\\n')\n",
    "test = pd.read_csv('../data/tasks/codebert_concat/data/Question1_test.csv',lineterminator='\\n')\n",
    "valid = pd.read_csv('../data/tasks/codebert_concat/data/Question1_valid.csv',lineterminator='\\n')"
   ]
  },
  {
   "cell_type": "code",
   "execution_count": 4,
   "metadata": {},
   "outputs": [
    {
     "name": "stdout",
     "output_type": "stream",
     "text": [
      "train length 171345, test length 36717, valid length 36716\n"
     ]
    }
   ],
   "source": [
    "# count rows\n",
    "train_index, test_index, valid_index = train.index, test.index, valid.index\n",
    "print(\"train length %d, test length %d, valid length %d\" % (len(train_index), len(test_index), len(valid_index)))"
   ]
  },
  {
   "cell_type": "code",
   "execution_count": 5,
   "metadata": {},
   "outputs": [
    {
     "data": {
      "text/html": [
       "<div>\n",
       "<style scoped>\n",
       "    .dataframe tbody tr th:only-of-type {\n",
       "        vertical-align: middle;\n",
       "    }\n",
       "\n",
       "    .dataframe tbody tr th {\n",
       "        vertical-align: top;\n",
       "    }\n",
       "\n",
       "    .dataframe thead th {\n",
       "        text-align: right;\n",
       "    }\n",
       "</style>\n",
       "<table border=\"1\" class=\"dataframe\">\n",
       "  <thead>\n",
       "    <tr style=\"text-align: right;\">\n",
       "      <th></th>\n",
       "      <th>Unnamed: 0</th>\n",
       "      <th>Unnamed: 0.1</th>\n",
       "      <th>Unnamed: 0.1.1</th>\n",
       "      <th>qid</th>\n",
       "      <th>title</th>\n",
       "      <th>desc_text</th>\n",
       "      <th>desc_code</th>\n",
       "      <th>creation_date</th>\n",
       "      <th>clean_tags</th>\n",
       "      <th>natural_lang</th>\n",
       "    </tr>\n",
       "  </thead>\n",
       "  <tbody>\n",
       "    <tr>\n",
       "      <th>0</th>\n",
       "      <td>0</td>\n",
       "      <td>101920</td>\n",
       "      <td>101920</td>\n",
       "      <td>653963</td>\n",
       "      <td>SOAP Request Timeout in Console App (.NET)</td>\n",
       "      <td>I have a SOAP web service added to a console a...</td>\n",
       "      <td>NaN</td>\n",
       "      <td>2009-03-17T12:13:02.987</td>\n",
       "      <td>['.net']</td>\n",
       "      <td>SOAP Request Timeout in Console App (.NET). I ...</td>\n",
       "    </tr>\n",
       "    <tr>\n",
       "      <th>1</th>\n",
       "      <td>1</td>\n",
       "      <td>166030</td>\n",
       "      <td>166030</td>\n",
       "      <td>965456</td>\n",
       "      <td>Layered window still receiving WM_PAINT messag...</td>\n",
       "      <td>I've got a few layered windows in my app that ...</td>\n",
       "      <td>NaN</td>\n",
       "      <td>2009-06-08T15:27:00.327</td>\n",
       "      <td>['windows', 'user-interface']</td>\n",
       "      <td>Layered window still receiving WM_PAINT messag...</td>\n",
       "    </tr>\n",
       "    <tr>\n",
       "      <th>2</th>\n",
       "      <td>2</td>\n",
       "      <td>240355</td>\n",
       "      <td>240355</td>\n",
       "      <td>1303574</td>\n",
       "      <td>How do I create folders and add/update Javascr...</td>\n",
       "      <td>How do I create folders and add/update Javascr...</td>\n",
       "      <td>NaN</td>\n",
       "      <td>2009-08-20T01:59:57.780</td>\n",
       "      <td>['javascript-framework', 'directory']</td>\n",
       "      <td>How do I create folders and add/update Javascr...</td>\n",
       "    </tr>\n",
       "    <tr>\n",
       "      <th>3</th>\n",
       "      <td>3</td>\n",
       "      <td>160973</td>\n",
       "      <td>160973</td>\n",
       "      <td>941034</td>\n",
       "      <td>Is it possible to use GROUP BY with bind varia...</td>\n",
       "      <td>I want to issue a query like the following whe...</td>\n",
       "      <td>select max(col1), f(:1, col2) from t group by ...</td>\n",
       "      <td>2009-06-02T18:06:20.037</td>\n",
       "      <td>['prepared-statement', 'java', 'oracle', 'jdbc...</td>\n",
       "      <td>Is it possible to use GROUP BY with bind varia...</td>\n",
       "    </tr>\n",
       "    <tr>\n",
       "      <th>4</th>\n",
       "      <td>4</td>\n",
       "      <td>171401</td>\n",
       "      <td>171401</td>\n",
       "      <td>990816</td>\n",
       "      <td>How do I release/sell/promote a semi-commercia...</td>\n",
       "      <td>I've got a framework for PHP that I've develop...</td>\n",
       "      <td>NaN</td>\n",
       "      <td>2009-06-13T14:58:07.180</td>\n",
       "      <td>['language-agnostic', 'open-source']</td>\n",
       "      <td>How do I release/sell/promote a semi-commercia...</td>\n",
       "    </tr>\n",
       "  </tbody>\n",
       "</table>\n",
       "</div>"
      ],
      "text/plain": [
       "   Unnamed: 0  Unnamed: 0.1  Unnamed: 0.1.1      qid  \\\n",
       "0           0        101920          101920   653963   \n",
       "1           1        166030          166030   965456   \n",
       "2           2        240355          240355  1303574   \n",
       "3           3        160973          160973   941034   \n",
       "4           4        171401          171401   990816   \n",
       "\n",
       "                                               title  \\\n",
       "0         SOAP Request Timeout in Console App (.NET)   \n",
       "1  Layered window still receiving WM_PAINT messag...   \n",
       "2  How do I create folders and add/update Javascr...   \n",
       "3  Is it possible to use GROUP BY with bind varia...   \n",
       "4  How do I release/sell/promote a semi-commercia...   \n",
       "\n",
       "                                           desc_text  \\\n",
       "0  I have a SOAP web service added to a console a...   \n",
       "1  I've got a few layered windows in my app that ...   \n",
       "2  How do I create folders and add/update Javascr...   \n",
       "3  I want to issue a query like the following whe...   \n",
       "4  I've got a framework for PHP that I've develop...   \n",
       "\n",
       "                                           desc_code            creation_date  \\\n",
       "0                                                NaN  2009-03-17T12:13:02.987   \n",
       "1                                                NaN  2009-06-08T15:27:00.327   \n",
       "2                                                NaN  2009-08-20T01:59:57.780   \n",
       "3  select max(col1), f(:1, col2) from t group by ...  2009-06-02T18:06:20.037   \n",
       "4                                                NaN  2009-06-13T14:58:07.180   \n",
       "\n",
       "                                          clean_tags  \\\n",
       "0                                           ['.net']   \n",
       "1                      ['windows', 'user-interface']   \n",
       "2              ['javascript-framework', 'directory']   \n",
       "3  ['prepared-statement', 'java', 'oracle', 'jdbc...   \n",
       "4               ['language-agnostic', 'open-source']   \n",
       "\n",
       "                                        natural_lang  \n",
       "0  SOAP Request Timeout in Console App (.NET). I ...  \n",
       "1  Layered window still receiving WM_PAINT messag...  \n",
       "2  How do I create folders and add/update Javascr...  \n",
       "3  Is it possible to use GROUP BY with bind varia...  \n",
       "4  How do I release/sell/promote a semi-commercia...  "
      ]
     },
     "execution_count": 5,
     "metadata": {},
     "output_type": "execute_result"
    }
   ],
   "source": [
    "train.head()"
   ]
  },
  {
   "cell_type": "code",
   "execution_count": 6,
   "metadata": {},
   "outputs": [
    {
     "name": "stdout",
     "output_type": "stream",
     "text": [
      "104187\n",
      "22488\n",
      "22433\n"
     ]
    }
   ],
   "source": [
    "# count the number of nan \n",
    "\n",
    "print((train['desc_code'].isna()).sum())\n",
    "print((test['desc_code'].isna()).sum())\n",
    "print((valid['desc_code'].isna()).sum())"
   ]
  },
  {
   "cell_type": "code",
   "execution_count": 7,
   "metadata": {},
   "outputs": [],
   "source": [
    "# get the max length of title, descp, code, nl\n",
    "import numpy as np\n",
    "measurer = np.vectorize(len)\n"
   ]
  },
  {
   "cell_type": "code",
   "execution_count": 9,
   "metadata": {},
   "outputs": [
    {
     "name": "stdout",
     "output_type": "stream",
     "text": [
      "150\n"
     ]
    }
   ],
   "source": [
    "res1 = measurer(train['title'].values.astype(str)).max(axis=0)\n",
    "res1 = measurer(train['title'].values.astype(str)).max(axis=0)\n",
    "\n",
    "res1 = measurer(train['title'].values.astype(str)).max(axis=0)"
   ]
  },
  {
   "cell_type": "code",
   "execution_count": 10,
   "metadata": {},
   "outputs": [],
   "source": [
    "\n",
    "res1 = measurer(train['natural_lang'].values.astype(str)).max(axis=0)\n"
   ]
  },
  {
   "cell_type": "code",
   "execution_count": 11,
   "metadata": {},
   "outputs": [
    {
     "name": "stdout",
     "output_type": "stream",
     "text": [
      "19039\n"
     ]
    }
   ],
   "source": [
    "print(res1)"
   ]
  },
  {
   "cell_type": "code",
   "execution_count": null,
   "metadata": {},
   "outputs": [],
   "source": []
  }
 ],
 "metadata": {
  "interpreter": {
   "hash": "d4d1e4263499bec80672ea0156c357c1ee493ec2b1c70f0acce89fc37c4a6abe"
  },
  "kernelspec": {
   "display_name": "Python 3.6.9 64-bit ('base': conda)",
   "language": "python",
   "name": "python3"
  },
  "language_info": {
   "codemirror_mode": {
    "name": "ipython",
    "version": 3
   },
   "file_extension": ".py",
   "mimetype": "text/x-python",
   "name": "python",
   "nbconvert_exporter": "python",
   "pygments_lexer": "ipython3",
   "version": "3.6.13"
  },
  "orig_nbformat": 4
 },
 "nbformat": 4,
 "nbformat_minor": 2
}
