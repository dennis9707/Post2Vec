{
 "cells": [
  {
   "cell_type": "code",
   "execution_count": 1,
   "metadata": {},
   "outputs": [],
   "source": [
    "import pandas as pd\n",
    "\n",
    "train = pd.read_csv('../data/questions/Questions54_filter_tags.csv')\n"
   ]
  },
  {
   "cell_type": "code",
   "execution_count": 8,
   "metadata": {},
   "outputs": [],
   "source": [
    "tags = pd.read_csv('../data/tags/20211110/ts1000/_2_1_commonTags.csv')\n",
    "tag_count = pd.read_csv('../data/tags/20211110/Tags54_TagCount_Sorted.csv')\n",
    "tag_count_1000 = tag_count[tag_count['count'] > 1000]\n"
   ]
  },
  {
   "cell_type": "code",
   "execution_count": 23,
   "metadata": {},
   "outputs": [
    {
     "name": "stdout",
     "output_type": "stream",
     "text": [
      "404038\n"
     ]
    },
    {
     "data": {
      "text/html": [
       "<div>\n",
       "<style scoped>\n",
       "    .dataframe tbody tr th:only-of-type {\n",
       "        vertical-align: middle;\n",
       "    }\n",
       "\n",
       "    .dataframe tbody tr th {\n",
       "        vertical-align: top;\n",
       "    }\n",
       "\n",
       "    .dataframe thead th {\n",
       "        text-align: right;\n",
       "    }\n",
       "</style>\n",
       "<table border=\"1\" class=\"dataframe\">\n",
       "  <thead>\n",
       "    <tr style=\"text-align: right;\">\n",
       "      <th></th>\n",
       "      <th>Unnamed: 0</th>\n",
       "      <th>qid</th>\n",
       "      <th>title</th>\n",
       "      <th>desc_text</th>\n",
       "      <th>desc_code</th>\n",
       "      <th>creation_date</th>\n",
       "      <th>clean_tags</th>\n",
       "    </tr>\n",
       "  </thead>\n",
       "  <tbody>\n",
       "    <tr>\n",
       "      <th>0</th>\n",
       "      <td>0</td>\n",
       "      <td>67881561</td>\n",
       "      <td>Why is my code returning the answer a million ...</td>\n",
       "      <td>I have a few different functions im figuring o...</td>\n",
       "      <td>import csv def coldest_temperature(input_file)...</td>\n",
       "      <td>2021-06-08T04:48:23.780</td>\n",
       "      <td>['python-3.x', 'csv']</td>\n",
       "    </tr>\n",
       "    <tr>\n",
       "      <th>1</th>\n",
       "      <td>1</td>\n",
       "      <td>67881547</td>\n",
       "      <td>Formating a sum reduce function in Python</td>\n",
       "      <td>I'm trying to format the result of a sum funct...</td>\n",
       "      <td>from functools import reduce def sum_equation(...</td>\n",
       "      <td>2021-06-08T04:46:55.547</td>\n",
       "      <td>['python']</td>\n",
       "    </tr>\n",
       "    <tr>\n",
       "      <th>2</th>\n",
       "      <td>2</td>\n",
       "      <td>67881569</td>\n",
       "      <td>Functionallity (supposedly) of shutil.which(\"f...</td>\n",
       "      <td>I have a github project for my app Scout. I us...</td>\n",
       "      <td>NaN</td>\n",
       "      <td>2021-06-08T04:49:10.447</td>\n",
       "      <td>['python']</td>\n",
       "    </tr>\n",
       "    <tr>\n",
       "      <th>3</th>\n",
       "      <td>3</td>\n",
       "      <td>67881560</td>\n",
       "      <td>How to create a Telegram Bot Inline Keyboard M...</td>\n",
       "      <td>I have created a Python Telegram Bot with an I...</td>\n",
       "      <td>NaN</td>\n",
       "      <td>2021-06-08T04:48:19.650</td>\n",
       "      <td>['python']</td>\n",
       "    </tr>\n",
       "    <tr>\n",
       "      <th>4</th>\n",
       "      <td>4</td>\n",
       "      <td>67881549</td>\n",
       "      <td>app.use() and router.post() is not working</td>\n",
       "      <td>My app.use() is not working.It shows 'Cannot P...</td>\n",
       "      <td>**app.js** const express=require('express'); c...</td>\n",
       "      <td>2021-06-08T04:47:13.633</td>\n",
       "      <td>['node.js']</td>\n",
       "    </tr>\n",
       "  </tbody>\n",
       "</table>\n",
       "</div>"
      ],
      "text/plain": [
       "   Unnamed: 0       qid                                              title  \\\n",
       "0           0  67881561  Why is my code returning the answer a million ...   \n",
       "1           1  67881547          Formating a sum reduce function in Python   \n",
       "2           2  67881569  Functionallity (supposedly) of shutil.which(\"f...   \n",
       "3           3  67881560  How to create a Telegram Bot Inline Keyboard M...   \n",
       "4           4  67881549         app.use() and router.post() is not working   \n",
       "\n",
       "                                           desc_text  \\\n",
       "0  I have a few different functions im figuring o...   \n",
       "1  I'm trying to format the result of a sum funct...   \n",
       "2  I have a github project for my app Scout. I us...   \n",
       "3  I have created a Python Telegram Bot with an I...   \n",
       "4  My app.use() is not working.It shows 'Cannot P...   \n",
       "\n",
       "                                           desc_code            creation_date  \\\n",
       "0  import csv def coldest_temperature(input_file)...  2021-06-08T04:48:23.780   \n",
       "1  from functools import reduce def sum_equation(...  2021-06-08T04:46:55.547   \n",
       "2                                                NaN  2021-06-08T04:49:10.447   \n",
       "3                                                NaN  2021-06-08T04:48:19.650   \n",
       "4  **app.js** const express=require('express'); c...  2021-06-08T04:47:13.633   \n",
       "\n",
       "              clean_tags  \n",
       "0  ['python-3.x', 'csv']  \n",
       "1             ['python']  \n",
       "2             ['python']  \n",
       "3             ['python']  \n",
       "4            ['node.js']  "
      ]
     },
     "execution_count": 23,
     "metadata": {},
     "output_type": "execute_result"
    }
   ],
   "source": [
    "print(train.shape[0])\n",
    "train.head()"
   ]
  },
  {
   "cell_type": "code",
   "execution_count": 21,
   "metadata": {},
   "outputs": [],
   "source": [
    "import matplotlib.pyplot as plt\n",
    "from matplotlib.pyplot import figure"
   ]
  },
  {
   "cell_type": "code",
   "execution_count": 19,
   "metadata": {},
   "outputs": [
    {
     "data": {
      "text/plain": [
       "<matplotlib.axes._subplots.AxesSubplot at 0x7fd32ab557b8>"
      ]
     },
     "execution_count": 19,
     "metadata": {},
     "output_type": "execute_result"
    },
    {
     "data": {
      "image/png": "[encoded data removed]",
      "text/plain": [
       "<Figure size 1080x720 with 1 Axes>"
      ]
     },
     "metadata": {
      "needs_background": "light"
     },
     "output_type": "display_data"
    }
   ],
   "source": [
    "tag_count_1000.plot(x='tag',y=\"count\",figsize=(15,10))"
   ]
  },
  {
   "cell_type": "code",
   "execution_count": 43,
   "metadata": {},
   "outputs": [
    {
     "name": "stdout",
     "output_type": "stream",
     "text": [
      "0\n"
     ]
    }
   ],
   "source": [
    "# count the number of nan \n",
    "\n",
    "print((train['clean_tags'].isna()).sum())\n"
   ]
  },
  {
   "cell_type": "code",
   "execution_count": 27,
   "metadata": {},
   "outputs": [
    {
     "data": {
      "image/png": "[encoded data removed]",
      "text/plain": [
       "<Figure size 432x288 with 1 Axes>"
      ]
     },
     "metadata": {
      "needs_background": "light"
     },
     "output_type": "display_data"
    }
   ],
   "source": [
    "import matplotlib.pyplot as plt\n",
    "\n",
    "train['title length'] = train[\"title\"].str.split().apply(len)\n",
    "train.boxplot(\"title length\", grid=False )\n",
    "plt.suptitle(\"\")\n",
    "plt.xlabel(\"\");"
   ]
  },
  {
   "cell_type": "code",
   "execution_count": 67,
   "metadata": {},
   "outputs": [
    {
     "data": {
      "image/png": "[encoded data removed]",
      "text/plain": [
       "<Figure size 504x540 with 1 Axes>"
      ]
     },
     "metadata": {
      "needs_background": "light"
     },
     "output_type": "display_data"
    }
   ],
   "source": [
    "train.boxplot(\"title length\", grid=False,figsize=(7,7.5),showfliers=False,)\n",
    "plt.suptitle(\"\")\n",
    "plt.ylabel(\"count\");"
   ]
  },
  {
   "cell_type": "code",
   "execution_count": 44,
   "metadata": {},
   "outputs": [],
   "source": [
    "train = train.fillna(\"\")"
   ]
  },
  {
   "cell_type": "code",
   "execution_count": 36,
   "metadata": {},
   "outputs": [
    {
     "data": {
      "text/plain": [
       "403340"
      ]
     },
     "execution_count": 36,
     "metadata": {},
     "output_type": "execute_result"
    }
   ],
   "source": [
    "train_na = train[train['desc_text'].notna()]\n",
    "\n",
    "train_na.shape[0]"
   ]
  },
  {
   "cell_type": "code",
   "execution_count": 66,
   "metadata": {},
   "outputs": [
    {
     "data": {
      "image/png": "[encoded data removed]",
      "text/plain": [
       "<Figure size 504x540 with 1 Axes>"
      ]
     },
     "metadata": {
      "needs_background": "light"
     },
     "output_type": "display_data"
    }
   ],
   "source": [
    "train['text length'] = train[\"desc_text\"].str.split().apply(len)\n",
    "train.boxplot(\"text length\", grid=False,figsize=(7,7.5),showfliers=False, )\n",
    "plt.suptitle(\"\")\n",
    "plt.ylabel(\"count\");"
   ]
  },
  {
   "cell_type": "code",
   "execution_count": 65,
   "metadata": {},
   "outputs": [
    {
     "data": {
      "image/png": "[encoded data removed]",
      "text/plain": [
       "<Figure size 504x540 with 1 Axes>"
      ]
     },
     "metadata": {
      "needs_background": "light"
     },
     "output_type": "display_data"
    }
   ],
   "source": [
    "train['code length'] = train[\"desc_code\"].str.split().apply(len)\n",
    "train.boxplot(\"code length\", grid=False,figsize=(7,7.5),showfliers=False,)\n",
    "plt.suptitle(\"\")\n",
    "plt.ylabel(\"count\");"
   ]
  },
  {
   "cell_type": "code",
   "execution_count": 64,
   "metadata": {},
   "outputs": [
    {
     "name": "stdout",
     "output_type": "stream",
     "text": [
      "title length     19.5\n",
      "text length     207.5\n",
      "code length     243.5\n",
      "dtype: float64\n"
     ]
    }
   ],
   "source": [
    "# count outliers\n",
    "Q1 = train[[\"title length\", \"text length\",\"code length\"]].quantile(0.25)\n",
    "Q3 = train[[\"title length\", \"text length\",\"code length\"]].quantile(0.75)\n",
    "IQR = Q3 - Q1\n",
    "print(Q3 + 1.5 * IQR)\n",
    "# ((train[[\"title length\", \"text length\",\"code length\"]] > (Q3 + 1.5 * IQR))).sum()\n"
   ]
  },
  {
   "cell_type": "code",
   "execution_count": 62,
   "metadata": {},
   "outputs": [
    {
     "name": "stdout",
     "output_type": "stream",
     "text": [
      "title length     7.0\n",
      "text length     50.0\n",
      "code length      6.0\n",
      "Name: 0.25, dtype: float64\n"
     ]
    }
   ],
   "source": [
    "QMAX = train[[\"title length\", \"text length\",\"code length\"]].quantile(0.25\n",
    "                                                                     \n",
    "                                                                     )\n",
    "print(QMAX)"
   ]
  },
  {
   "cell_type": "code",
   "execution_count": null,
   "metadata": {},
   "outputs": [],
   "source": []
  }
 ],
 "metadata": {
  "interpreter": {
   "hash": "d4d1e4263499bec80672ea0156c357c1ee493ec2b1c70f0acce89fc37c4a6abe"
  },
  "kernelspec": {
   "display_name": "Python 3.6.9 64-bit ('base': conda)",
   "language": "python",
   "name": "python3"
  },
  "language_info": {
   "codemirror_mode": {
    "name": "ipython",
    "version": 3
   },
   "file_extension": ".py",
   "mimetype": "text/x-python",
   "name": "python",
   "nbconvert_exporter": "python",
   "pygments_lexer": "ipython3",
   "version": "3.6.13"
  },
  "orig_nbformat": 4
 },
 "nbformat": 4,
 "nbformat_minor": 2
}
