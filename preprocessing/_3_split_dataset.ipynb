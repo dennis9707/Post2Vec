{
 "cells": [
  {
   "cell_type": "code",
   "execution_count": 11,
   "metadata": {},
   "outputs": [
    {
     "data": {
      "text/html": [
       "<div>\n",
       "<style scoped>\n",
       "    .dataframe tbody tr th:only-of-type {\n",
       "        vertical-align: middle;\n",
       "    }\n",
       "\n",
       "    .dataframe tbody tr th {\n",
       "        vertical-align: top;\n",
       "    }\n",
       "\n",
       "    .dataframe thead th {\n",
       "        text-align: right;\n",
       "    }\n",
       "</style>\n",
       "<table border=\"1\" class=\"dataframe\">\n",
       "  <thead>\n",
       "    <tr style=\"text-align: right;\">\n",
       "      <th></th>\n",
       "      <th>qid</th>\n",
       "      <th>title</th>\n",
       "      <th>desc_text</th>\n",
       "      <th>desc_code</th>\n",
       "      <th>creation_date</th>\n",
       "      <th>clean_tags</th>\n",
       "    </tr>\n",
       "  </thead>\n",
       "  <tbody>\n",
       "    <tr>\n",
       "      <th>0</th>\n",
       "      <td>67881561</td>\n",
       "      <td>Why is my code returning the answer a million ...</td>\n",
       "      <td>I have a few different functions im figuring o...</td>\n",
       "      <td>import csv def coldest_temperature(input_file)...</td>\n",
       "      <td>2021-06-08T04:48:23.780</td>\n",
       "      <td>['python-3.x', 'csv']</td>\n",
       "    </tr>\n",
       "    <tr>\n",
       "      <th>1</th>\n",
       "      <td>67881547</td>\n",
       "      <td>Formating a sum reduce function in Python</td>\n",
       "      <td>I'm trying to format the result of a sum funct...</td>\n",
       "      <td>from functools import reduce def sum_equation(...</td>\n",
       "      <td>2021-06-08T04:46:55.547</td>\n",
       "      <td>['python']</td>\n",
       "    </tr>\n",
       "    <tr>\n",
       "      <th>2</th>\n",
       "      <td>67881569</td>\n",
       "      <td>Functionallity (supposedly) of shutil.which(\"f...</td>\n",
       "      <td>I have a github project for my app Scout. I us...</td>\n",
       "      <td>NaN</td>\n",
       "      <td>2021-06-08T04:49:10.447</td>\n",
       "      <td>['python']</td>\n",
       "    </tr>\n",
       "    <tr>\n",
       "      <th>3</th>\n",
       "      <td>67881560</td>\n",
       "      <td>How to create a Telegram Bot Inline Keyboard M...</td>\n",
       "      <td>I have created a Python Telegram Bot with an I...</td>\n",
       "      <td>NaN</td>\n",
       "      <td>2021-06-08T04:48:19.650</td>\n",
       "      <td>['python']</td>\n",
       "    </tr>\n",
       "    <tr>\n",
       "      <th>4</th>\n",
       "      <td>67881549</td>\n",
       "      <td>app.use() and router.post() is not working</td>\n",
       "      <td>My app.use() is not working.It shows 'Cannot P...</td>\n",
       "      <td>**app.js** const express=require('express'); c...</td>\n",
       "      <td>2021-06-08T04:47:13.633</td>\n",
       "      <td>['node.js']</td>\n",
       "    </tr>\n",
       "  </tbody>\n",
       "</table>\n",
       "</div>"
      ],
      "text/plain": [
       "        qid                                              title  \\\n",
       "0  67881561  Why is my code returning the answer a million ...   \n",
       "1  67881547          Formating a sum reduce function in Python   \n",
       "2  67881569  Functionallity (supposedly) of shutil.which(\"f...   \n",
       "3  67881560  How to create a Telegram Bot Inline Keyboard M...   \n",
       "4  67881549         app.use() and router.post() is not working   \n",
       "\n",
       "                                           desc_text  \\\n",
       "0  I have a few different functions im figuring o...   \n",
       "1  I'm trying to format the result of a sum funct...   \n",
       "2  I have a github project for my app Scout. I us...   \n",
       "3  I have created a Python Telegram Bot with an I...   \n",
       "4  My app.use() is not working.It shows 'Cannot P...   \n",
       "\n",
       "                                           desc_code            creation_date  \\\n",
       "0  import csv def coldest_temperature(input_file)...  2021-06-08T04:48:23.780   \n",
       "1  from functools import reduce def sum_equation(...  2021-06-08T04:46:55.547   \n",
       "2                                                NaN  2021-06-08T04:49:10.447   \n",
       "3                                                NaN  2021-06-08T04:48:19.650   \n",
       "4  **app.js** const express=require('express'); c...  2021-06-08T04:47:13.633   \n",
       "\n",
       "              clean_tags  \n",
       "0  ['python-3.x', 'csv']  \n",
       "1             ['python']  \n",
       "2             ['python']  \n",
       "3             ['python']  \n",
       "4            ['node.js']  "
      ]
     },
     "execution_count": 11,
     "metadata": {},
     "output_type": "execute_result"
    }
   ],
   "source": [
    "import pandas as pd\n",
    "input_file = \"../data/questions/Questions54_filter_tags1.csv\"\n",
    "df = pd.read_csv(input_file)\n",
    "df.head()"
   ]
  },
  {
   "cell_type": "code",
   "execution_count": 12,
   "metadata": {},
   "outputs": [
    {
     "name": "stdout",
     "output_type": "stream",
     "text": [
      "FULL Dataset: (404038, 6)\n",
      "TRAIN Dataset: (282827, 6)\n",
      "TEST Dataset: (60605, 6)\n",
      "VALID Dataset: (60606, 6)\n"
     ]
    }
   ],
   "source": [
    "train_size = 0.7\n",
    "train_dataset = df.sample(frac=train_size, random_state=200)\n",
    "test_dataset = df.drop(train_dataset.index).reset_index(drop=True)\n",
    "train_dataset = train_dataset.reset_index(drop=True)\n",
    "\n",
    "\n",
    "valid_dataset = test_dataset.sample(frac=0.5, random_state=42)\n",
    "test_dataset = test_dataset.drop(valid_dataset.index).reset_index(drop=True)\n",
    "valid_dataset = valid_dataset.reset_index(drop=True)\n",
    "\n",
    "print(\"FULL Dataset: {}\".format(df.shape))\n",
    "print(\"TRAIN Dataset: {}\".format(train_dataset.shape))\n",
    "print(\"TEST Dataset: {}\".format(test_dataset.shape))\n",
    "print(\"VALID Dataset: {}\".format(valid_dataset.shape))\n",
    "\n",
    "train_dataset.to_csv(\"../data/questions/Train_Questions54.csv\", index=False)\n",
    "valid_dataset.to_csv(\"../data/questions/Valid_Questions54.csv\", index=False)\n",
    "test_dataset.to_csv(\"../data/questions/Test_Questions54.csv\", index=False)\n"
   ]
  }
 ],
 "metadata": {
  "interpreter": {
   "hash": "d4d1e4263499bec80672ea0156c357c1ee493ec2b1c70f0acce89fc37c4a6abe"
  },
  "kernelspec": {
   "display_name": "Python 3.6.13 64-bit ('base': conda)",
   "language": "python",
   "name": "python3"
  },
  "language_info": {
   "codemirror_mode": {
    "name": "ipython",
    "version": 3
   },
   "file_extension": ".py",
   "mimetype": "text/x-python",
   "name": "python",
   "nbconvert_exporter": "python",
   "pygments_lexer": "ipython3",
   "version": "3.6.13"
  },
  "orig_nbformat": 4
 },
 "nbformat": 4,
 "nbformat_minor": 2
}
